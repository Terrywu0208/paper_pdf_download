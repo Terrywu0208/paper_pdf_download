{
 "cells": [
  {
   "cell_type": "code",
   "execution_count": null,
   "metadata": {},
   "outputs": [],
   "source": [
    "import requests\n",
    "from bs4 import BeautifulSoup\n",
    "import wget\n",
    "import re\n",
    "\n",
    "pmid = []\n",
    "pattern = re.compile(\"doi: (.+).\")\n",
    "pdf_pattern = re.compile(\"(.+)#\")\n",
    "\n",
    "def download_pdf(doi_id):\n",
    "    print(doi_id)\n",
    "    url = f\"https://sci-hub.se/{doi_id}\"\n",
    "    pdf_rq = requests.get(url)\n",
    "    pdf_html = BeautifulSoup(pdf_rq.text)\n",
    "    pdf_url_find = pdf_html.select(\"embed\")\n",
    "    pdf_url_filter = pdf_pattern.findall(pdf_url_find[0][\"src\"])\n",
    "    pdf_url = \"https:\"+pdf_url_filter[0]\n",
    "    pdf_url_find = pdf_html.select(\"embed\")\n",
    "    title = pdf_html.select(\"#citation > i\")\n",
    "    s = title[0].text\n",
    "    title_slipt = s.split(\".\")[0]\n",
    "    print(pdf_url)\n",
    "    wget.download(pdf_url,out=title_slipt+\".pdf\")\n",
    "\n",
    "for page_num in range(35,50):\n",
    "    print(page_num)\n",
    "    url = f'https://pubmed.ncbi.nlm.nih.gov/?term=geographic&filter=years.2009-2015&page={page_num}'\n",
    "    pubmed_response = requests.get(url)\n",
    "    response_text = BeautifulSoup(pubmed_response.text)\n",
    "    topic_a = response_text.select(\".docsum-journal-citation.full-journal-citation\")\n",
    "    for i in topic_a:\n",
    "        doi = pattern.findall(i.text)\n",
    "        pmid.extend(doi)\n",
    "print(pmid)\n",
    "for i in pmid:\n",
    "    try:\n",
    "        download_pdf(i)\n",
    "    except:\n",
    "        pass"
   ]
  }
 ],
 "metadata": {
  "interpreter": {
   "hash": "2647ea34e536f865ab67ff9ddee7fd78773d956cec0cab53c79b32cd10da5d83"
  },
  "kernelspec": {
   "display_name": "Python 3.9.5 64-bit",
   "language": "python",
   "name": "python3"
  },
  "language_info": {
   "codemirror_mode": {
    "name": "ipython",
    "version": 3
   },
   "file_extension": ".py",
   "mimetype": "text/x-python",
   "name": "python",
   "nbconvert_exporter": "python",
   "pygments_lexer": "ipython3",
   "version": "3.9.5"
  },
  "orig_nbformat": 4
 },
 "nbformat": 4,
 "nbformat_minor": 2
}
